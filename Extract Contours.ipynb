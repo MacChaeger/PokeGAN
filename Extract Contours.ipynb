{
 "cells": [
  {
   "cell_type": "code",
   "execution_count": 3,
   "metadata": {},
   "outputs": [],
   "source": [
    "import cv2\n",
    "import matplotlib.pyplot as plt\n",
    "import os"
   ]
  },
  {
   "cell_type": "code",
   "execution_count": 4,
   "metadata": {},
   "outputs": [],
   "source": [
    "if not os.path.exists('./training_data_contour'):\n",
    "    os.mkdir('./training_data_contour')\n",
    "for filename in os.listdir('./training_data'):\n",
    "    image = cv2.imread('./training_data/'+filename, cv2.IMREAD_UNCHANGED)\n",
    "    gray_image = cv2.cvtColor(image, cv2.COLOR_BGRA2GRAY)\n",
    "    gray_image = cv2.bilateralFilter(gray_image, 10, 20, 20)\n",
    "    edged = cv2.Canny(gray_image, 30, 200)\n",
    "    one_layer = cv2.bitwise_not(cv2.bitwise_and(edged,edged,mask = image[:,:,3]))\n",
    "    img_final = cv2.merge((one_layer,one_layer,one_layer))\n",
    "    img_final = cv2.cvtColor(img_final, cv2.COLOR_BGR2BGRA)\n",
    "    cv2.imwrite('./training_data_contour/'+filename,img_final)"
   ]
  },
  {
   "cell_type": "code",
   "execution_count": null,
   "metadata": {},
   "outputs": [],
   "source": []
  },
  {
   "cell_type": "code",
   "execution_count": null,
   "metadata": {},
   "outputs": [],
   "source": []
  }
 ],
 "metadata": {
  "kernelspec": {
   "display_name": "env",
   "language": "python",
   "name": "env"
  },
  "language_info": {
   "codemirror_mode": {
    "name": "ipython",
    "version": 3
   },
   "file_extension": ".py",
   "mimetype": "text/x-python",
   "name": "python",
   "nbconvert_exporter": "python",
   "pygments_lexer": "ipython3",
   "version": "3.5.2"
  }
 },
 "nbformat": 4,
 "nbformat_minor": 2
}
